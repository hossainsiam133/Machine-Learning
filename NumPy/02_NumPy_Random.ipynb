{
  "cells": [
    {
      "cell_type": "markdown",
      "metadata": {
        "id": "view-in-github",
        "colab_type": "text"
      },
      "source": [
        "<a href=\"https://colab.research.google.com/github/hossainsiam133/Machine-Learning/blob/main/NumPy/02_NumPy_Random.ipynb\" target=\"_parent\"><img src=\"https://colab.research.google.com/assets/colab-badge.svg\" alt=\"Open In Colab\"/></a>"
      ]
    },
    {
      "cell_type": "markdown",
      "id": "0a85c552",
      "metadata": {
        "id": "0a85c552"
      },
      "source": [
        "# NumPy Random Distributions Examples"
      ]
    },
    {
      "cell_type": "markdown",
      "id": "44c5e64c",
      "metadata": {
        "id": "44c5e64c"
      },
      "source": [
        "## Random Intro"
      ]
    },
    {
      "cell_type": "code",
      "execution_count": 68,
      "id": "564effa7",
      "metadata": {
        "id": "564effa7",
        "colab": {
          "base_uri": "https://localhost:8080/"
        },
        "outputId": "371e82ce-299a-4e2a-a327-39e6f5b0be47"
      },
      "outputs": [
        {
          "output_type": "stream",
          "name": "stdout",
          "text": [
            "Random array: [0.71570191 0.27666661 0.09237473]\n",
            "[9 2 6 9 2]\n",
            "15\n"
          ]
        }
      ],
      "source": [
        "import numpy as np\n",
        "\n",
        "rand = np.random.rand(3)\n",
        "print(\"Random array:\", rand)\n",
        "\n",
        "num = np.random.randint(10,size=(5))\n",
        "print(num)\n",
        "\n",
        "choose = np.random.choice([10,30,15,40])\n",
        "print(choose)"
      ]
    },
    {
      "cell_type": "markdown",
      "id": "139fca04",
      "metadata": {
        "id": "139fca04"
      },
      "source": [
        "## Data Distribution"
      ]
    },
    {
      "cell_type": "code",
      "execution_count": null,
      "id": "16a8dd79",
      "metadata": {
        "id": "16a8dd79"
      },
      "outputs": [],
      "source": [
        "import matplotlib.pyplot as plt\n",
        "\n",
        "x = np.random.normal(size=1000)\n",
        "plt.hist(x, bins=30)\n",
        "plt.title(\"Normal Distribution Histogram\")\n",
        "plt.show()"
      ]
    },
    {
      "cell_type": "markdown",
      "id": "96b26619",
      "metadata": {
        "id": "96b26619"
      },
      "source": [
        "## Random Permutation"
      ]
    },
    {
      "cell_type": "code",
      "execution_count": null,
      "id": "07268c2d",
      "metadata": {
        "id": "07268c2d"
      },
      "outputs": [],
      "source": [
        "arr = np.array([1, 2, 3, 4, 5])\n",
        "perm = np.random.permutation(arr)\n",
        "print(\"Permutation:\", perm)"
      ]
    },
    {
      "cell_type": "markdown",
      "id": "ffbeda55",
      "metadata": {
        "id": "ffbeda55"
      },
      "source": [
        "## Seaborn Module"
      ]
    },
    {
      "cell_type": "code",
      "execution_count": null,
      "id": "48c840c6",
      "metadata": {
        "id": "48c840c6"
      },
      "outputs": [],
      "source": [
        "import seaborn as sns\n",
        "\n",
        "sns.histplot(np.random.normal(size=1000), kde=True)"
      ]
    },
    {
      "cell_type": "markdown",
      "id": "b207fcb5",
      "metadata": {
        "id": "b207fcb5"
      },
      "source": [
        "## Normal Distribution"
      ]
    },
    {
      "cell_type": "code",
      "execution_count": null,
      "id": "e8d49617",
      "metadata": {
        "id": "e8d49617"
      },
      "outputs": [],
      "source": [
        "data = np.random.normal(loc=0, scale=1, size=1000)\n",
        "plt.hist(data, bins=30)\n",
        "plt.title(\"Normal Distribution\")\n",
        "plt.show()"
      ]
    },
    {
      "cell_type": "markdown",
      "id": "66f47281",
      "metadata": {
        "id": "66f47281"
      },
      "source": [
        "## Binomial Distribution"
      ]
    },
    {
      "cell_type": "code",
      "execution_count": null,
      "id": "e6c33ad3",
      "metadata": {
        "id": "e6c33ad3"
      },
      "outputs": [],
      "source": [
        "data = np.random.binomial(n=10, p=0.5, size=1000)\n",
        "plt.hist(data, bins=30)\n",
        "plt.title(\"Binomial Distribution\")\n",
        "plt.show()"
      ]
    },
    {
      "cell_type": "markdown",
      "id": "3f226df8",
      "metadata": {
        "id": "3f226df8"
      },
      "source": [
        "## Poisson Distribution"
      ]
    },
    {
      "cell_type": "code",
      "execution_count": null,
      "id": "8dab09c4",
      "metadata": {
        "id": "8dab09c4"
      },
      "outputs": [],
      "source": [
        "data = np.random.poisson(lam=5, size=1000)\n",
        "plt.hist(data, bins=30)\n",
        "plt.title(\"Poisson Distribution\")\n",
        "plt.show()"
      ]
    },
    {
      "cell_type": "markdown",
      "id": "2a37d849",
      "metadata": {
        "id": "2a37d849"
      },
      "source": [
        "## Uniform Distribution"
      ]
    },
    {
      "cell_type": "code",
      "execution_count": null,
      "id": "b683f3aa",
      "metadata": {
        "id": "b683f3aa"
      },
      "outputs": [],
      "source": [
        "data = np.random.uniform(low=0, high=10, size=1000)\n",
        "plt.hist(data, bins=30)\n",
        "plt.title(\"Uniform Distribution\")\n",
        "plt.show()"
      ]
    },
    {
      "cell_type": "markdown",
      "id": "e96e6f59",
      "metadata": {
        "id": "e96e6f59"
      },
      "source": [
        "## Logistic Distribution"
      ]
    },
    {
      "cell_type": "code",
      "execution_count": null,
      "id": "26ca9f0c",
      "metadata": {
        "id": "26ca9f0c"
      },
      "outputs": [],
      "source": [
        "data = np.random.logistic(loc=0.0, scale=1.0, size=1000)\n",
        "plt.hist(data, bins=30)\n",
        "plt.title(\"Logistic Distribution\")\n",
        "plt.show()"
      ]
    },
    {
      "cell_type": "markdown",
      "id": "6f7a90d3",
      "metadata": {
        "id": "6f7a90d3"
      },
      "source": [
        "## Multinomial Distribution"
      ]
    },
    {
      "cell_type": "code",
      "execution_count": null,
      "id": "22f79c41",
      "metadata": {
        "id": "22f79c41"
      },
      "outputs": [],
      "source": [
        "data = np.random.multinomial(n=20, pvals=[0.2, 0.3, 0.5], size=1)\n",
        "print(\"Multinomial Distribution example:\", data)"
      ]
    },
    {
      "cell_type": "markdown",
      "id": "8c67e45d",
      "metadata": {
        "id": "8c67e45d"
      },
      "source": [
        "## Exponential Distribution"
      ]
    },
    {
      "cell_type": "code",
      "execution_count": null,
      "id": "1c01093c",
      "metadata": {
        "id": "1c01093c"
      },
      "outputs": [],
      "source": [
        "data = np.random.exponential(scale=2.0, size=1000)\n",
        "plt.hist(data, bins=30)\n",
        "plt.title(\"Exponential Distribution\")\n",
        "plt.show()"
      ]
    },
    {
      "cell_type": "markdown",
      "id": "8549e0b8",
      "metadata": {
        "id": "8549e0b8"
      },
      "source": [
        "## Chi Square Distribution"
      ]
    },
    {
      "cell_type": "code",
      "execution_count": null,
      "id": "f99f6eae",
      "metadata": {
        "id": "f99f6eae"
      },
      "outputs": [],
      "source": [
        "data = np.random.chisquare(df=2, size=1000)\n",
        "plt.hist(data, bins=30)\n",
        "plt.title(\"Chi Square Distribution\")\n",
        "plt.show()"
      ]
    },
    {
      "cell_type": "markdown",
      "id": "7a92e941",
      "metadata": {
        "id": "7a92e941"
      },
      "source": [
        "## Rayleigh Distribution"
      ]
    },
    {
      "cell_type": "code",
      "execution_count": null,
      "id": "1b89e7ea",
      "metadata": {
        "id": "1b89e7ea"
      },
      "outputs": [],
      "source": [
        "data = np.random.rayleigh(scale=2, size=1000)\n",
        "plt.hist(data, bins=30)\n",
        "plt.title(\"Rayleigh Distribution\")\n",
        "plt.show()"
      ]
    },
    {
      "cell_type": "markdown",
      "id": "ea3ea705",
      "metadata": {
        "id": "ea3ea705"
      },
      "source": [
        "## Pareto Distribution"
      ]
    },
    {
      "cell_type": "code",
      "execution_count": 3,
      "id": "cb2bd417",
      "metadata": {
        "id": "cb2bd417",
        "colab": {
          "base_uri": "https://localhost:8080/",
          "height": 344
        },
        "outputId": "907794c8-a732-4598-8b1b-89fd50c3efb2"
      },
      "outputs": [
        {
          "output_type": "error",
          "ename": "AttributeError",
          "evalue": "module 'matplotlib' has no attribute 'hist'",
          "traceback": [
            "\u001b[0;31m---------------------------------------------------------------------------\u001b[0m",
            "\u001b[0;31mAttributeError\u001b[0m                            Traceback (most recent call last)",
            "\u001b[0;32m/tmp/ipython-input-730273862.py\u001b[0m in \u001b[0;36m<cell line: 0>\u001b[0;34m()\u001b[0m\n\u001b[1;32m      2\u001b[0m \u001b[0;32mimport\u001b[0m \u001b[0mmatplotlib\u001b[0m \u001b[0;32mas\u001b[0m \u001b[0mplt\u001b[0m\u001b[0;34m\u001b[0m\u001b[0;34m\u001b[0m\u001b[0m\n\u001b[1;32m      3\u001b[0m \u001b[0mdata\u001b[0m \u001b[0;34m=\u001b[0m \u001b[0mnp\u001b[0m\u001b[0;34m.\u001b[0m\u001b[0mrandom\u001b[0m\u001b[0;34m.\u001b[0m\u001b[0mpareto\u001b[0m\u001b[0;34m(\u001b[0m\u001b[0ma\u001b[0m\u001b[0;34m=\u001b[0m\u001b[0;36m3.0\u001b[0m\u001b[0;34m,\u001b[0m \u001b[0msize\u001b[0m\u001b[0;34m=\u001b[0m\u001b[0;36m1000\u001b[0m\u001b[0;34m)\u001b[0m\u001b[0;34m\u001b[0m\u001b[0;34m\u001b[0m\u001b[0m\n\u001b[0;32m----> 4\u001b[0;31m \u001b[0mplt\u001b[0m\u001b[0;34m.\u001b[0m\u001b[0mhist\u001b[0m\u001b[0;34m(\u001b[0m\u001b[0mdata\u001b[0m\u001b[0;34m,\u001b[0m \u001b[0mbins\u001b[0m\u001b[0;34m=\u001b[0m\u001b[0;36m30\u001b[0m\u001b[0;34m)\u001b[0m\u001b[0;34m\u001b[0m\u001b[0;34m\u001b[0m\u001b[0m\n\u001b[0m\u001b[1;32m      5\u001b[0m \u001b[0mplt\u001b[0m\u001b[0;34m.\u001b[0m\u001b[0mtitle\u001b[0m\u001b[0;34m(\u001b[0m\u001b[0;34m\"Pareto Distribution\"\u001b[0m\u001b[0;34m)\u001b[0m\u001b[0;34m\u001b[0m\u001b[0;34m\u001b[0m\u001b[0m\n\u001b[1;32m      6\u001b[0m \u001b[0mplt\u001b[0m\u001b[0;34m.\u001b[0m\u001b[0mshow\u001b[0m\u001b[0;34m(\u001b[0m\u001b[0;34m)\u001b[0m\u001b[0;34m\u001b[0m\u001b[0;34m\u001b[0m\u001b[0m\n",
            "\u001b[0;32m/usr/local/lib/python3.11/dist-packages/matplotlib/_api/__init__.py\u001b[0m in \u001b[0;36m__getattr__\u001b[0;34m(name)\u001b[0m\n\u001b[1;32m    216\u001b[0m         \u001b[0;32mif\u001b[0m \u001b[0mname\u001b[0m \u001b[0;32min\u001b[0m \u001b[0mprops\u001b[0m\u001b[0;34m:\u001b[0m\u001b[0;34m\u001b[0m\u001b[0;34m\u001b[0m\u001b[0m\n\u001b[1;32m    217\u001b[0m             \u001b[0;32mreturn\u001b[0m \u001b[0mprops\u001b[0m\u001b[0;34m[\u001b[0m\u001b[0mname\u001b[0m\u001b[0;34m]\u001b[0m\u001b[0;34m.\u001b[0m\u001b[0m__get__\u001b[0m\u001b[0;34m(\u001b[0m\u001b[0minstance\u001b[0m\u001b[0;34m)\u001b[0m\u001b[0;34m\u001b[0m\u001b[0;34m\u001b[0m\u001b[0m\n\u001b[0;32m--> 218\u001b[0;31m         raise AttributeError(\n\u001b[0m\u001b[1;32m    219\u001b[0m             f\"module {cls.__module__!r} has no attribute {name!r}\")\n\u001b[1;32m    220\u001b[0m \u001b[0;34m\u001b[0m\u001b[0m\n",
            "\u001b[0;31mAttributeError\u001b[0m: module 'matplotlib' has no attribute 'hist'"
          ]
        }
      ],
      "source": [
        "data = np.random.pareto(a=3.0, size=1000)\n",
        "plt.hist(data, bins=30)\n",
        "plt.title(\"Pareto Distribution\")\n",
        "plt.show()"
      ]
    },
    {
      "cell_type": "markdown",
      "id": "18023f9b",
      "metadata": {
        "id": "18023f9b"
      },
      "source": [
        "## Zipf Distribution"
      ]
    },
    {
      "cell_type": "code",
      "execution_count": null,
      "id": "e0879a92",
      "metadata": {
        "id": "e0879a92"
      },
      "outputs": [],
      "source": [
        "data = np.random.zipf(a=2.0, size=1000)\n",
        "plt.hist(data, bins=30)\n",
        "plt.title(\"Zipf Distribution\")\n",
        "plt.show()"
      ]
    },
    {
      "cell_type": "code",
      "source": [],
      "metadata": {
        "id": "0h_c9I_3RwIV"
      },
      "id": "0h_c9I_3RwIV",
      "execution_count": null,
      "outputs": []
    }
  ],
  "metadata": {
    "colab": {
      "provenance": [],
      "include_colab_link": true
    },
    "language_info": {
      "name": "python"
    },
    "kernelspec": {
      "name": "python3",
      "display_name": "Python 3"
    }
  },
  "nbformat": 4,
  "nbformat_minor": 5
}