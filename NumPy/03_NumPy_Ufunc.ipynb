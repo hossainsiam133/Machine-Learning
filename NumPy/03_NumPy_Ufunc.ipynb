{
  "nbformat": 4,
  "nbformat_minor": 0,
  "metadata": {
    "colab": {
      "provenance": [],
      "authorship_tag": "ABX9TyMYxl9cUpX4YZECVNXtNJA0",
      "include_colab_link": true
    },
    "kernelspec": {
      "name": "python3",
      "display_name": "Python 3"
    },
    "language_info": {
      "name": "python"
    }
  },
  "cells": [
    {
      "cell_type": "markdown",
      "metadata": {
        "id": "view-in-github",
        "colab_type": "text"
      },
      "source": [
        "<a href=\"https://colab.research.google.com/github/hossainsiam133/Machine-Learning/blob/main/NumPy/03_NumPy_Ufunc.ipynb\" target=\"_parent\"><img src=\"https://colab.research.google.com/assets/colab-badge.svg\" alt=\"Open In Colab\"/></a>"
      ]
    },
    {
      "cell_type": "code",
      "execution_count": 2,
      "metadata": {
        "colab": {
          "base_uri": "https://localhost:8080/"
        },
        "id": "WNp4K7Snimmr",
        "outputId": "f4ae288c-f2b1-4de2-87e0-fdd475651ee2"
      },
      "outputs": [
        {
          "output_type": "stream",
          "name": "stdout",
          "text": [
            "[7, 9, 11]\n",
            "[ 7  9 11]\n"
          ]
        }
      ],
      "source": [
        "# Intro\n",
        "import numpy as np\n",
        "a = [1,2,3]\n",
        "b = [6,7,8]\n",
        "c = []\n",
        "for x,y in zip(a,b):\n",
        "    c.append(x+y)\n",
        "print(c)\n",
        "\n",
        "z = np.add(a,b)\n",
        "print(z)\n"
      ]
    },
    {
      "cell_type": "code",
      "source": [
        "# Create your own ufunc for addition:\n",
        "def AddFunc(a,b):\n",
        "  return a+b\n",
        "myAdd = np.frompyfunc(AddFunc,2,1)\n",
        "print(myAdd([1,2,3],[6,7,8]))"
      ],
      "metadata": {
        "colab": {
          "base_uri": "https://localhost:8080/"
        },
        "id": "anxQRkt7k18v",
        "outputId": "06984da6-6ee3-4f27-b551-b23f3fe30b98"
      },
      "execution_count": null,
      "outputs": [
        {
          "output_type": "stream",
          "name": "stdout",
          "text": [
            "[7 9 11]\n"
          ]
        }
      ]
    },
    {
      "cell_type": "code",
      "source": [
        "# Simple Arithmetic\n",
        "arr1 = np.array([10, 20, 30, 40, 50, 60])\n",
        "arr2 = np.array([3, 5, 6, 8, 2, 33])\n",
        "\n",
        "# Addition\n",
        "print(\"Addition:\",np.add(arr1,arr2))\n",
        "# Substraction\n",
        "print(\"Subtraction:\",np.subtract(arr1,arr2))\n",
        "# Multiplication\n",
        "print(\"Multiplication:\",np.multiply(arr1,arr2))\n",
        "# Division\n",
        "print(\"Division:\",np.divide(arr1,arr2))\n",
        "# Power\n",
        "print(\"Power:\",np.power(arr1,arr2))\n",
        "# Reminder\n",
        "print(\"Reminder:\",np.mod(arr1,arr2))\n",
        "# Quotient and Mod\n",
        "print(\"Quotient and Mod\",np.divmod(arr1,arr2)) # integer division\n",
        "# Absolute Values\n",
        "print(\"Absolute Values\",np.abs([-1,-0,3,-9,3,4]))\n"
      ],
      "metadata": {
        "colab": {
          "base_uri": "https://localhost:8080/"
        },
        "id": "Kmh71lp7lXrm",
        "outputId": "43c306a6-4565-46b1-ad2d-5b1635b320f7"
      },
      "execution_count": null,
      "outputs": [
        {
          "output_type": "stream",
          "name": "stdout",
          "text": [
            "Addition: [13 25 36 48 52 93]\n",
            "Subtraction: [ 7 15 24 32 48 27]\n",
            "Multiplication: [  30  100  180  320  100 1980]\n",
            "Division: [ 3.33333333  4.          5.          5.         25.          1.81818182]\n",
            "Power: [         1000       3200000     729000000 6553600000000          2500\n",
            "             0]\n",
            "Reminder: [ 1  0  0  0  0 27]\n",
            "Quotient and Mod (array([ 3,  4,  5,  5, 25,  1]), array([ 1,  0,  0,  0,  0, 27]))\n",
            "Absolute Values [1 0 3 9 3 4]\n"
          ]
        }
      ]
    },
    {
      "cell_type": "code",
      "source": [
        "# There are primarily five ways of rounding off decimals in NumPy:\n",
        "# truncation\n",
        "# fix\n",
        "# rounding\n",
        "# floor\n",
        "# ceil\n",
        "\n",
        "# 1. truncation\n",
        "arr = [-3.666,3.6667]\n",
        "print(\"Truncation:\",np.trunc(arr))\n",
        "\n",
        "# 2. fix\n",
        "print(\"Fix:\",np.fix(arr))\n",
        "\n",
        "# 3. rounding\n",
        "# arr = np.around(3,1666,1)\n",
        "# print(\"Round:\",arr)\n",
        "\n",
        "# 4. floor\n",
        "print(\"Floor:\",np.floor(3.1416))\n",
        "\n",
        "# 5. Ceil\n",
        "print(\"Ceil:\",np.ceil(3.1416))"
      ],
      "metadata": {
        "colab": {
          "base_uri": "https://localhost:8080/"
        },
        "id": "YkBpItCkno4o",
        "outputId": "904c1b06-c8bc-4ad3-fe60-11749b8851aa"
      },
      "execution_count": null,
      "outputs": [
        {
          "output_type": "stream",
          "name": "stdout",
          "text": [
            "Truncation: [-3.  3.]\n",
            "Fix: [-3.  3.]\n",
            "Floor: 3.0\n",
            "Ceil: 4.0\n"
          ]
        }
      ]
    },
    {
      "cell_type": "code",
      "source": [
        "# Log at Base 2\n",
        "arr = np.arange(1,6)\n",
        "print(arr)\n",
        "print(\"Log at Base 2:\",np.log2(arr))\n",
        "print(\"Log at Base 10:\",np.log10(arr))\n",
        "print(\"Expontial:\",np.log(arr))"
      ],
      "metadata": {
        "colab": {
          "base_uri": "https://localhost:8080/"
        },
        "id": "IkHl4XvGqtiY",
        "outputId": "f591187d-ec82-4d40-8885-17ab90418a55"
      },
      "execution_count": null,
      "outputs": [
        {
          "output_type": "stream",
          "name": "stdout",
          "text": [
            "[1 2 3 4 5]\n",
            "Log at Base 2: [0.         1.         1.5849625  2.         2.32192809]\n",
            "Log at Base 10: [0.         0.30103    0.47712125 0.60205999 0.69897   ]\n",
            "Expontial: [0.         0.69314718 1.09861229 1.38629436 1.60943791]\n"
          ]
        }
      ]
    },
    {
      "cell_type": "code",
      "source": [
        "# Ufunc Summation\n",
        "arr1 = [1,2,3]\n",
        "arr2 = [1,2,3]\n",
        "print(\"Total Sum:\",np.sum([arr1,arr2]))\n",
        "\n",
        "# Summation Over an Axis\n",
        "print(\"Sum on X Axis:\",np.sum([arr1,arr2],axis=1))\n",
        "\n",
        "# Cummulative Sum\n",
        "print(\"Cummulative Sum:\",np.cumsum([1,2,3,4,5]))"
      ],
      "metadata": {
        "colab": {
          "base_uri": "https://localhost:8080/"
        },
        "id": "2SR4wirlsW9Y",
        "outputId": "8c9ab0e6-c32d-4676-a219-4e6bc6056de8"
      },
      "execution_count": null,
      "outputs": [
        {
          "output_type": "stream",
          "name": "stdout",
          "text": [
            "Total Sum: 12\n",
            "Sum on X Axis: [6 6]\n",
            "Cummulative Sum: [ 1  3  6 10 15]\n"
          ]
        }
      ]
    },
    {
      "cell_type": "code",
      "source": [
        "# Products\n",
        "arr1 = np.array([1,2,3,4])\n",
        "print(\"Products:\",np.prod(arr1))\n",
        "\n",
        "# Products 2D\n",
        "arr2 = np.array([5, 6, 7, 8])\n",
        "x = np.prod([arr1, arr2])\n",
        "print(x)\n",
        "\n",
        "# Products in Y axis\n",
        "arr1 = np.array([1, 2, 3, 4])\n",
        "arr2 = np.array([5, 6, 7, 8])\n",
        "newarr = np.prod([arr1, arr2], axis=0)\n",
        "print(\"Products in Y axis:\",newarr)\n",
        "\n",
        "# Cumalative Products\n",
        "print(\"Cumalative Products\",np.cumprod([1,2,3,4,5]))"
      ],
      "metadata": {
        "colab": {
          "base_uri": "https://localhost:8080/"
        },
        "id": "jIZWxPgVtl39",
        "outputId": "74838ba4-9efc-44ff-ba45-1e2bd32d6656"
      },
      "execution_count": null,
      "outputs": [
        {
          "output_type": "stream",
          "name": "stdout",
          "text": [
            "Products: 24\n",
            "40320\n",
            "Products in Y axis: [ 5 12 21 32]\n",
            "Cumalative Products [  1   2   6  24 120]\n"
          ]
        }
      ]
    },
    {
      "cell_type": "code",
      "source": [
        "# Differences\n",
        "arr = np.array([3,5,7,10,3])\n",
        "print(\"Difference 1st time:\",np.diff(arr))\n",
        "print(\"Difference 2nd time:\",np.diff(arr,n=2))"
      ],
      "metadata": {
        "colab": {
          "base_uri": "https://localhost:8080/"
        },
        "id": "vNbWBzlE3wb9",
        "outputId": "08454062-102c-475b-f05d-6be97464dc94"
      },
      "execution_count": 8,
      "outputs": [
        {
          "output_type": "stream",
          "name": "stdout",
          "text": [
            "Difference 1st time: [ 2  2  3 -7]\n",
            "Difference 2nd time: [  0   1 -10]\n"
          ]
        }
      ]
    },
    {
      "cell_type": "code",
      "source": [
        "# LCM GCD\n",
        "num1 = 4\n",
        "num2 = 6\n",
        "print(\"LCM\",np.lcm(num1,num2))\n",
        "\n",
        "arr = np.array([3,6,9])\n",
        "print(\"LCM in Array:\",np.lcm.reduce(arr))\n",
        "print()\n",
        "print(\"GCD:\",np.gcd(num1,num2))\n",
        "print(\"GCD in Array:\",np.gcd.reduce(arr))"
      ],
      "metadata": {
        "colab": {
          "base_uri": "https://localhost:8080/"
        },
        "id": "mjPh7HKB4Xki",
        "outputId": "bc9725fa-492f-4ea1-ece9-32a58a50cd2d"
      },
      "execution_count": 15,
      "outputs": [
        {
          "output_type": "stream",
          "name": "stdout",
          "text": [
            "LCM 12\n",
            "LCM in Array: 18\n",
            "\n",
            "GCD: 2\n",
            "GCD in Array: 3\n"
          ]
        }
      ]
    },
    {
      "cell_type": "code",
      "source": [
        "# Trigonometric Functions\n",
        "print(np.sin(np.pi/2))\n",
        "arr = np.array([np.pi/2,np.pi/3,np.pi/6])\n",
        "print(np.sin(arr))\n",
        "\n",
        "# Convert Degrees Into Radians\n",
        "arr = np.array([90,180,270,360])\n",
        "print(\"Radians:\",np.deg2rad(arr))\n",
        "\n",
        "# Radians to Degrees\n",
        "arr = np.array([np.pi/2, np.pi, 1.5*np.pi, 2*np.pi])\n",
        "print(\"Degrees:\",np.rad2deg(arr))\n",
        "\n",
        "# Finding Angles\n",
        "print(\"Angle:\",np.arcsin(1))\n",
        "\n",
        "# Finding Angles in Arrray\n",
        "\n",
        "arr = np.array([1, -1, 0.1])\n",
        "x = np.arcsin(arr)\n",
        "print(\"Array Angles:\",x)\n",
        "\n",
        "# Pythagoras theorem\n",
        "base = 4\n",
        "perp = 6\n",
        "print(\"hypotenuse:\",np.hypot(base,perp))"
      ],
      "metadata": {
        "colab": {
          "base_uri": "https://localhost:8080/"
        },
        "id": "Qzaa6TSj6Ppd",
        "outputId": "bbec5853-3c8d-4892-9c39-bc62842f55da"
      },
      "execution_count": 38,
      "outputs": [
        {
          "output_type": "stream",
          "name": "stdout",
          "text": [
            "1.0\n",
            "[1.        0.8660254 0.5      ]\n",
            "Radians: [1.57079633 3.14159265 4.71238898 6.28318531]\n",
            "Degrees: [ 90. 180. 270. 360.]\n",
            "Angle: 1.5707963267948966\n",
            "Array Angles: [ 1.57079633 -1.57079633  0.10016742]\n",
            "hypotenuse: 7.211102550927978\n"
          ]
        }
      ]
    },
    {
      "cell_type": "code",
      "source": [
        "# Hyperbolic Functions\n",
        "print(np.sinh(np.pi*0.5))"
      ],
      "metadata": {
        "colab": {
          "base_uri": "https://localhost:8080/"
        },
        "id": "ykFYBA1595MM",
        "outputId": "e94e2da4-20c1-4858-db1d-bb58986f5aff"
      },
      "execution_count": 41,
      "outputs": [
        {
          "output_type": "stream",
          "name": "stdout",
          "text": [
            "2.3012989023072947\n"
          ]
        }
      ]
    },
    {
      "cell_type": "code",
      "source": [
        "# NumPy Set Operations\n",
        "arr = np.array([1, 1, 1, 2, 3, 4, 5, 5, 6, 7])\n",
        "print(\"Unique Elements:\",np.unique(arr))\n",
        "\n",
        "# Finding Union\n",
        "arr1 = np.array([1,2,3,4,5])\n",
        "arr2 = np.array([1,7,1,4])\n",
        "print(\"Union:\",np.union1d(arr1,arr2))\n",
        "\n",
        "# Finding Intersection\n",
        "# Note: the intersect1d() method takes an optional argument assume_unique, which if set to True can speed up computation.\n",
        "# It should always be set to True when dealing with sets.\n",
        "print(\"Intersect:\",np.intersect1d(arr1,arr2,assume_unique=True))\n",
        "\n",
        "# Finding Difference\n",
        "set1 = np.array([1, 2, 3, 4])\n",
        "set2 = np.array([3, 4, 5, 6])\n",
        "print(\"Differnce:\",np.setdiff1d(set1,set2)) # Those elements which is present in set1 but not in set2\n",
        "\n",
        "# Finding Symmetric Difference\n",
        "# To find only the values that are NOT present in BOTH sets, use the setxor1d() method.\n",
        "print(\"Symmetric Difference:\",np.setxor1d(set1,set2))\n"
      ],
      "metadata": {
        "colab": {
          "base_uri": "https://localhost:8080/"
        },
        "id": "N2KP0W9k-LKj",
        "outputId": "61e6a03e-2aa5-4c1d-aea0-e220a06859e7"
      },
      "execution_count": 57,
      "outputs": [
        {
          "output_type": "stream",
          "name": "stdout",
          "text": [
            "Unique Elements: [1 2 3 4 5 6 7]\n",
            "Union: [1 2 3 4 5 7]\n",
            "Intersect: [1 1 4]\n",
            "Differnce: [1 2]\n",
            "Symmetric Difference: [1 2 5 6]\n"
          ]
        }
      ]
    }
  ]
}