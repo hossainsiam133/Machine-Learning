{
  "nbformat": 4,
  "nbformat_minor": 0,
  "metadata": {
    "colab": {
      "provenance": [],
      "authorship_tag": "ABX9TyO7O75J8CljqDTqxtcUU0xM",
      "include_colab_link": true
    },
    "kernelspec": {
      "name": "python3",
      "display_name": "Python 3"
    },
    "language_info": {
      "name": "python"
    }
  },
  "cells": [
    {
      "cell_type": "markdown",
      "metadata": {
        "id": "view-in-github",
        "colab_type": "text"
      },
      "source": [
        "<a href=\"https://colab.research.google.com/github/hossainsiam133/Machine-Learning/blob/main/Pandas/01_Pandas_Basic.ipynb\" target=\"_parent\"><img src=\"https://colab.research.google.com/assets/colab-badge.svg\" alt=\"Open In Colab\"/></a>"
      ]
    },
    {
      "cell_type": "code",
      "execution_count": 7,
      "metadata": {
        "colab": {
          "base_uri": "https://localhost:8080/"
        },
        "id": "JbSlOwcWfS4e",
        "outputId": "5a2261aa-db6c-4dd2-aca1-54494f67b56a"
      },
      "outputs": [
        {
          "output_type": "stream",
          "name": "stdout",
          "text": [
            "      Name  Age Department  Salary Joining Date\n",
            "0    Alice   29         HR   45000   2021-06-15\n",
            "1      Bob   34         IT   60000   2020-09-23\n",
            "2  Charlie   28    Finance   55000   2022-01-10\n",
            "3    David   40         IT   75000   2018-04-01\n",
            "4     Siam   31  Marketing   50000   2019-11-12\n"
          ]
        }
      ],
      "source": [
        "import pandas as pd\n",
        "\n",
        "data = pd.read_csv(\"data.csv\")\n",
        "print(data.to_string())\n",
        "# df = pd.read_csv('sample_data/sample_data.csv')\n",
        "\n",
        "# print(df.to_string())\n",
        "# import pandas as pd\n",
        "\n",
        "# data = {\n",
        "#     \"Name\": [\"Alice\", \"Bob\", \"Charlie\", \"David\", \"Eva\"],\n",
        "#     \"Age\": [29, 34, 28, 40, 31],\n",
        "#     \"Department\": [\"HR\", \"IT\", \"Finance\", \"IT\", \"Marketing\"],\n",
        "#     \"Salary\": [45000, 60000, 55000, 75000, 50000],\n",
        "#     \"Joining Date\": [\"2021-06-15\", \"2020-09-23\", \"2022-01-10\", \"2018-04-01\", \"2019-11-12\"]\n",
        "# }\n",
        "\n",
        "# df = pd.DataFrame(data)\n",
        "# df.to_csv(\"sample_data/sample_data.csv\", index=False)\n",
        "# print(\"CSV file created successfully!\")"
      ]
    },
    {
      "cell_type": "code",
      "source": [
        "data = {\n",
        "    'Student Name':['Siam','Talha','Asif'],\n",
        "    'ID':[23100084,23100069,23100051]\n",
        "}\n",
        "x = pd.DataFrame(data)\n",
        "print(x)\n",
        "print()\n",
        "print(x.loc[[0,1]])\n",
        "print(\"Pandas Version:\",pd.__version__)"
      ],
      "metadata": {
        "colab": {
          "base_uri": "https://localhost:8080/"
        },
        "id": "gvGJJyDHFSk-",
        "outputId": "1a679b94-ee66-4ece-c872-3c4cdf13071d"
      },
      "execution_count": 66,
      "outputs": [
        {
          "output_type": "stream",
          "name": "stdout",
          "text": [
            "  Student Name        ID\n",
            "0         Siam  23100084\n",
            "1        Talha  23100069\n",
            "2         Asif  23100051\n",
            "\n",
            "  Student Name        ID\n",
            "0         Siam  23100084\n",
            "1        Talha  23100069\n",
            "Pandas Version: 2.2.2\n"
          ]
        }
      ]
    },
    {
      "cell_type": "code",
      "source": [
        "data = [23100069,23100084,23100051]\n",
        "x = pd.Series(data,index = [\"Talha\", \"Siam\", \"Asif\"])\n",
        "print(x)\n",
        "\n",
        "data = [1,2,3]\n",
        "x = pd.Series(data)\n",
        "print(x)\n",
        "\n",
        "data = {\"BMW\":5,\"Ferrari\":6}\n",
        "print(data)\n",
        "x = pd.Series(data)\n",
        "print(x)"
      ],
      "metadata": {
        "colab": {
          "base_uri": "https://localhost:8080/"
        },
        "id": "CZnM5BEbHqCR",
        "outputId": "46350792-a564-4515-a2e9-b50fa7d7a4c3"
      },
      "execution_count": 54,
      "outputs": [
        {
          "output_type": "stream",
          "name": "stdout",
          "text": [
            "Talha    23100069\n",
            "Siam     23100084\n",
            "Asif     23100051\n",
            "dtype: int64\n",
            "0    1\n",
            "1    2\n",
            "2    3\n",
            "dtype: int64\n",
            "{'BMW': 5, 'Ferrari': 6}\n",
            "BMW        5\n",
            "Ferrari    6\n",
            "dtype: int64\n"
          ]
        }
      ]
    },
    {
      "cell_type": "code",
      "source": [
        "data = pd.read_csv(\"data.csv\")\n",
        "print(data)\n",
        "print()\n",
        "print()\n",
        "print(data.head())\n",
        "print()\n",
        "print(data.tail(2))\n"
      ],
      "metadata": {
        "colab": {
          "base_uri": "https://localhost:8080/"
        },
        "id": "y6o7-uLfMjh-",
        "outputId": "bef9c49b-fb3a-49e2-989a-daab0879289c"
      },
      "execution_count": 96,
      "outputs": [
        {
          "output_type": "stream",
          "name": "stdout",
          "text": [
            "     Name  Age Department  Salary Joining Date\n",
            "0   Alice   29         HR   45000   2021-06-15\n",
            "..    ...  ...        ...     ...          ...\n",
            "4    Siam   31  Marketing   50000   2019-11-12\n",
            "\n",
            "[5 rows x 5 columns]\n",
            "\n",
            "\n",
            "     Name  Age Department  Salary Joining Date\n",
            "0   Alice   29         HR   45000   2021-06-15\n",
            "..    ...  ...        ...     ...          ...\n",
            "4    Siam   31  Marketing   50000   2019-11-12\n",
            "\n",
            "[5 rows x 5 columns]\n",
            "\n",
            "    Name  Age Department  Salary Joining Date\n",
            "3  David   40         IT   75000   2018-04-01\n",
            "4   Siam   31  Marketing   50000   2019-11-12\n"
          ]
        }
      ]
    },
    {
      "cell_type": "code",
      "source": [
        "data = {\n",
        "  \"Duration\":{\n",
        "    \"0\":60,\n",
        "    # \"1\":60,\n",
        "    # \"2\":60,\n",
        "    # \"3\":45,\n",
        "    \"4\":45,\n",
        "    \"5\":60\n",
        "  },\n",
        "  \"Pulse\":{\n",
        "    # \"0\":110,\n",
        "    # \"1\":117,\n",
        "    # \"2\":103,\n",
        "    # \"3\":109,\n",
        "    \"4\":117,\n",
        "    \"5\":102\n",
        "  },\n",
        "  \"Maxpulse\":{\n",
        "    # \"0\":130,\n",
        "    # \"1\":145,\n",
        "    # \"2\":135,\n",
        "    # \"3\":175,\n",
        "    \"4\":148,\n",
        "    \"5\":127\n",
        "  },\n",
        "  \"Calories\":{\n",
        "    # \"0\":409,\n",
        "    # \"1\":479,\n",
        "    # \"2\":340,\n",
        "    # \"3\":282,\n",
        "    \"4\":406,\n",
        "    \"5\":300\n",
        "  }\n",
        "}\n",
        "\n",
        "df = pd.DataFrame(data)\n",
        "\n",
        "print(df)"
      ],
      "metadata": {
        "colab": {
          "base_uri": "https://localhost:8080/"
        },
        "id": "rsFiC1VPOPEP",
        "outputId": "c69d93f3-df39-440e-e38f-1daba71c623e"
      },
      "execution_count": 80,
      "outputs": [
        {
          "output_type": "stream",
          "name": "stdout",
          "text": [
            "   Duration  Pulse  Maxpulse  Calories\n",
            "0        60    NaN       NaN       NaN\n",
            "4        45  117.0     148.0     406.0\n",
            "5        60  102.0     127.0     300.0\n"
          ]
        }
      ]
    },
    {
      "cell_type": "code",
      "source": [
        "data = pd.read_csv(\"data.csv\")\n",
        "print(data.to_string())\n",
        "print()\n",
        "print(data.info())"
      ],
      "metadata": {
        "colab": {
          "base_uri": "https://localhost:8080/"
        },
        "id": "4emFTBlUQPc9",
        "outputId": "82b3782a-f6f7-4043-b85b-756fb89b37d0"
      },
      "execution_count": 103,
      "outputs": [
        {
          "output_type": "stream",
          "name": "stdout",
          "text": [
            "      Name  Age Department  Salary Joining Date\n",
            "0    Alice   29         HR   45000   2021-06-15\n",
            "1      Bob   34         IT   60000   2020-09-23\n",
            "2  Charlie   28    Finance   55000   2022-01-10\n",
            "3    David   40         IT   75000   2018-04-01\n",
            "4     Siam   31  Marketing   50000   2019-11-12\n",
            "\n",
            "<class 'pandas.core.frame.DataFrame'>\n",
            "RangeIndex: 5 entries, 0 to 4\n",
            "Data columns (total 5 columns):\n",
            " #   Column        Non-Null Count  Dtype \n",
            "---  ------        --------------  ----- \n",
            " 0   Name          5 non-null      object\n",
            " 1   Age           5 non-null      int64 \n",
            " 2   Department    5 non-null      object\n",
            " 3   Salary        5 non-null      int64 \n",
            " 4   Joining Date  5 non-null      object\n",
            "dtypes: int64(2), object(3)\n",
            "memory usage: 332.0+ bytes\n",
            "None\n"
          ]
        }
      ]
    }
  ]
}