{
  "nbformat": 4,
  "nbformat_minor": 0,
  "metadata": {
    "colab": {
      "provenance": [],
      "authorship_tag": "ABX9TyOHi1RlxYGA2SSmLSwWIzHH",
      "include_colab_link": true
    },
    "kernelspec": {
      "name": "python3",
      "display_name": "Python 3"
    },
    "language_info": {
      "name": "python"
    }
  },
  "cells": [
    {
      "cell_type": "markdown",
      "metadata": {
        "id": "view-in-github",
        "colab_type": "text"
      },
      "source": [
        "<a href=\"https://colab.research.google.com/github/hossainsiam133/Machine-Learning/blob/main/Pandas/01_Pandas_Basic.ipynb\" target=\"_parent\"><img src=\"https://colab.research.google.com/assets/colab-badge.svg\" alt=\"Open In Colab\"/></a>"
      ]
    },
    {
      "cell_type": "code",
      "execution_count": null,
      "metadata": {
        "colab": {
          "base_uri": "https://localhost:8080/"
        },
        "id": "JbSlOwcWfS4e",
        "outputId": "f36c7914-70aa-4a65-ab29-e847c7c09a66"
      },
      "outputs": [
        {
          "output_type": "stream",
          "name": "stdout",
          "text": [
            "      Name  Age Department  Salary Joining Date\n",
            "0    Alice   29         HR   45000   2021-06-15\n",
            "1      Bob   34         IT   60000   2020-09-23\n",
            "2  Charlie   28    Finance   55000   2022-01-10\n",
            "3    David   40         IT   75000   2018-04-01\n",
            "4      Eva   31  Marketing   50000   2019-11-12\n"
          ]
        }
      ],
      "source": [
        "import pandas as pd\n",
        "\n",
        "data = pd.read(\"data.csv\")\n",
        "print(data.to_string())\n",
        "# df = pd.read_csv('sample_data/sample_data.csv')\n",
        "\n",
        "# print(df.to_string())\n",
        "# import pandas as pd\n",
        "\n",
        "# data = {\n",
        "#     \"Name\": [\"Alice\", \"Bob\", \"Charlie\", \"David\", \"Eva\"],\n",
        "#     \"Age\": [29, 34, 28, 40, 31],\n",
        "#     \"Department\": [\"HR\", \"IT\", \"Finance\", \"IT\", \"Marketing\"],\n",
        "#     \"Salary\": [45000, 60000, 55000, 75000, 50000],\n",
        "#     \"Joining Date\": [\"2021-06-15\", \"2020-09-23\", \"2022-01-10\", \"2018-04-01\", \"2019-11-12\"]\n",
        "# }\n",
        "\n",
        "# df = pd.DataFrame(data)\n",
        "# df.to_csv(\"sample_data/sample_data.csv\", index=False)\n",
        "# print(\"CSV file created successfully!\")"
      ]
    }
  ]
}