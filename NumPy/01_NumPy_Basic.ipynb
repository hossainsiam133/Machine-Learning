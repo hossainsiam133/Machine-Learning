{
  "nbformat": 4,
  "nbformat_minor": 0,
  "metadata": {
    "colab": {
      "provenance": [],
      "authorship_tag": "ABX9TyPEg9FBC4dAbn0jzBDp4D8k",
      "include_colab_link": true
    },
    "kernelspec": {
      "name": "python3",
      "display_name": "Python 3"
    },
    "language_info": {
      "name": "python"
    }
  },
  "cells": [
    {
      "cell_type": "markdown",
      "metadata": {
        "id": "view-in-github",
        "colab_type": "text"
      },
      "source": [
        "<a href=\"https://colab.research.google.com/github/hossainsiam133/Machine-Learning/blob/main/NumPy/01_NumPy_Basic.ipynb\" target=\"_parent\"><img src=\"https://colab.research.google.com/assets/colab-badge.svg\" alt=\"Open In Colab\"/></a>"
      ]
    },
    {
      "cell_type": "code",
      "execution_count": 4,
      "metadata": {
        "id": "QNgbqulD4T1w",
        "colab": {
          "base_uri": "https://localhost:8080/"
        },
        "outputId": "f8c4e91b-1c14-4d88-f628-e5b830611bc0"
      },
      "outputs": [
        {
          "output_type": "stream",
          "name": "stdout",
          "text": [
            "1D array: [1 2 3]\n",
            "2D array:\n",
            " [[1 2]\n",
            " [3 4]]\n",
            "Zeros:\n",
            " [[0. 0. 0.]\n",
            " [0. 0. 0.]]\n",
            "Ones:\n",
            " [[1. 1. 1.]\n",
            " [1. 1. 1.]]\n",
            "Random:\n",
            " [[0.98124326 0.50166956 0.11863674]\n",
            " [0.3800445  0.88819851 0.22637075]]\n"
          ]
        }
      ],
      "source": [
        "# NumPy Creating Arrays\n",
        "import numpy as np\n",
        "\n",
        "# From list\n",
        "arr1 = np.array([1, 2, 3])\n",
        "print(\"1D array:\", arr1)\n",
        "\n",
        "# 2D array\n",
        "arr2 = np.array([[1, 2], [3, 4]])\n",
        "print(\"2D array:\\n\", arr2)\n",
        "\n",
        "# Zeros, Ones, and Random\n",
        "print(\"Zeros:\\n\", np.zeros((2, 3)))\n",
        "print(\"Ones:\\n\", np.ones((2, 3)))\n",
        "print(\"Random:\\n\", np.random.rand(2, 3))"
      ]
    },
    {
      "cell_type": "code",
      "source": [
        "# NumPy Array Indexing\n",
        "arr = np.array([10, 20, 30, 40])\n",
        "print(\"Element at index 1:\", arr[1])\n",
        "\n",
        "arr2d = np.array([[1, 2], [3, 4]])\n",
        "print(\"Element at (1, 0):\", arr2d[1, 0])\n"
      ],
      "metadata": {
        "colab": {
          "base_uri": "https://localhost:8080/"
        },
        "id": "jR7Do6R2CPmX",
        "outputId": "93410627-9537-4310-99bf-986dad7d605d"
      },
      "execution_count": 5,
      "outputs": [
        {
          "output_type": "stream",
          "name": "stdout",
          "text": [
            "Element at index 1: 20\n",
            "Element at (1, 0): 3\n"
          ]
        }
      ]
    },
    {
      "cell_type": "code",
      "source": [
        "# NumPy Array Slicing\n",
        "arr = np.array([10, 20, 30, 40, 50])\n",
        "print(\"Sliced (1:4):\", arr[1:4])\n",
        "\n",
        "arr2d = np.array([[1, 2, 3], [4, 5, 6]])\n",
        "print(\"Row 1, Col 0:2\\n\", arr2d[1, 0:2])"
      ],
      "metadata": {
        "colab": {
          "base_uri": "https://localhost:8080/"
        },
        "id": "BhtQ-t35Ccsm",
        "outputId": "0db32c6b-149e-4c38-f3aa-8555258c744f"
      },
      "execution_count": 6,
      "outputs": [
        {
          "output_type": "stream",
          "name": "stdout",
          "text": [
            "Sliced (1:4): [20 30 40]\n",
            "Row 1, Col 0:2\n",
            " [4 5]\n"
          ]
        }
      ]
    },
    {
      "cell_type": "code",
      "source": [
        "# NumPy Data Types\n",
        "arr = np.array([1, 2, 3], dtype='float32')\n",
        "print(\"Array:\", arr)\n",
        "print(\"Data Type:\", arr.dtype)"
      ],
      "metadata": {
        "colab": {
          "base_uri": "https://localhost:8080/"
        },
        "id": "ablzVxgBCdSU",
        "outputId": "0d834c31-abb6-447b-f9b7-0c6b33162ebe"
      },
      "execution_count": 7,
      "outputs": [
        {
          "output_type": "stream",
          "name": "stdout",
          "text": [
            "Array: [1. 2. 3.]\n",
            "Data Type: float32\n"
          ]
        }
      ]
    },
    {
      "cell_type": "code",
      "source": [
        "# NumPy Copy vs View\n",
        "# View (shared data)\n",
        "arr = np.array([1, 2, 3])\n",
        "view = arr.view()\n",
        "view[0] = 100\n",
        "print(\"Original (after view change):\", arr)\n",
        "\n",
        "# Copy (separate data)\n",
        "copy = arr.copy()\n",
        "copy[1] = 200\n",
        "print(\"Original (after copy change):\", arr)"
      ],
      "metadata": {
        "colab": {
          "base_uri": "https://localhost:8080/"
        },
        "id": "oa7ZB6R3Cdj2",
        "outputId": "4971f128-9d2a-4469-a376-fc7de3dd2ce1"
      },
      "execution_count": 8,
      "outputs": [
        {
          "output_type": "stream",
          "name": "stdout",
          "text": [
            "Original (after view change): [100   2   3]\n",
            "Original (after copy change): [100   2   3]\n"
          ]
        }
      ]
    },
    {
      "cell_type": "code",
      "source": [
        "# NumPy Array Shape\n",
        "arr = np.array([[1, 2, 3], [4, 5, 6]])\n",
        "print(\"Shape:\", arr.shape)\n",
        "print(\"Size:\", arr.size)\n",
        "print(\"Dimensions:\", arr.ndim)"
      ],
      "metadata": {
        "colab": {
          "base_uri": "https://localhost:8080/"
        },
        "id": "zq4hzqJZCdwj",
        "outputId": "9ecf147e-5c1a-4f7e-d902-c2b36210b0d7"
      },
      "execution_count": 9,
      "outputs": [
        {
          "output_type": "stream",
          "name": "stdout",
          "text": [
            "Shape: (2, 3)\n",
            "Size: 6\n",
            "Dimensions: 2\n"
          ]
        }
      ]
    },
    {
      "cell_type": "code",
      "source": [
        "# NumPy Array Reshape\n",
        "arr = np.array([1, 2, 3, 4, 5, 6])\n",
        "reshaped = arr.reshape((2, 3))\n",
        "print(\"Reshaped Array:\\n\", reshaped)"
      ],
      "metadata": {
        "colab": {
          "base_uri": "https://localhost:8080/"
        },
        "id": "56g4JR61CeDM",
        "outputId": "9afc9886-6dbf-4ada-ff30-b9c294aba6de"
      },
      "execution_count": 10,
      "outputs": [
        {
          "output_type": "stream",
          "name": "stdout",
          "text": [
            "Reshaped Array:\n",
            " [[1 2 3]\n",
            " [4 5 6]]\n"
          ]
        }
      ]
    },
    {
      "cell_type": "code",
      "source": [
        "# NumPy Array Iterating\n",
        "arr = np.array([[1, 2], [3, 4]])\n",
        "\n",
        "# Iterate over rows\n",
        "for row in arr:\n",
        "    print(\"Row:\", row)\n",
        "\n",
        "# Iterate over each element\n",
        "for x in np.nditer(arr):\n",
        "    print(\"Element:\", x)"
      ],
      "metadata": {
        "colab": {
          "base_uri": "https://localhost:8080/"
        },
        "id": "qnymz-gTCzgG",
        "outputId": "1b949776-c2a1-48c0-9695-d0e1e18b16ac"
      },
      "execution_count": 11,
      "outputs": [
        {
          "output_type": "stream",
          "name": "stdout",
          "text": [
            "Row: [1 2]\n",
            "Row: [3 4]\n",
            "Element: 1\n",
            "Element: 2\n",
            "Element: 3\n",
            "Element: 4\n"
          ]
        }
      ]
    },
    {
      "cell_type": "code",
      "source": [],
      "metadata": {
        "id": "5kEGzFDeCzv2"
      },
      "execution_count": 11,
      "outputs": []
    }
  ]
}